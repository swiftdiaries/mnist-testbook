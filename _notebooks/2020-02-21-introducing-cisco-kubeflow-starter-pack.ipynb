{
 "cells": [
  {
   "cell_type": "markdown",
   "metadata": {},
   "source": [
    "# \"Introducing Cisco Kubeflow Starter Pack\"\n",
    "> \"KF Starter Pack for KF Pipelines is a template with out-of-the-box CI/CD (GitHub Actions) and tech docs (fastpages)\"\n",
    "\n",
    "- toc: true\n",
    "- branch: master\n",
    "- badges: true\n",
    "- comments: true\n",
    "- categories: [fastpages, jupyter, kubeflow, pipelines]\n",
    "- hide: false\n",
    "- search_exclude: true"
   ]
  },
  {
   "cell_type": "markdown",
   "metadata": {},
   "source": [
    "<!-- TOC depthFrom:1 depthTo:6 withLinks:1 updateOnSave:1 orderedList:0 -->\n",
    "\n",
    "- [Welcome To `Cisco KF Starter Pack`](#welcome-to-cksp)\n",
    "  - [Setup Instructions](#setup-instructions)\n",
    "  - [Customizing the MNIST Pipeline](#customize-mnist)\n",
    "  - [Customizing Docs With Front Matter](#customizing-blog-posts-with-front-matter)\n",
    "    - [Configure Title & Summary](#configure-title--summary)\n",
    "    - [Table of Contents](#table-of-contents)\n",
    "    - [Colab, Binder and GitHub Badges](#colab-binder-and-github-badges)\n",
    "    - [Categories](#categories)\n",
    "    - [Enabling Comments](#enabling-comments)\n",
    "    - [Setting an Image For Social Media](#setting-an-image-for-social-media)\n",
    "    - [Hiding A Blog Post](#hiding-a-blog-post)\n",
    "    - [Pinning A Blog Post](#pinning-a-blog-post)\n",
    "    - [Toggle Search Visibility](#toggle-search-visibility)\n",
    "    - [Site Wide Configuration Options](#site-wide-configuration-options)\n",
    "    - [Syntax Highlighting](#syntax-highlighting)\n",
    "    - [Adding Citations via BibTeX](#adding-citations-via-bibtex)\n",
    "    - [Writing Docs With Jupyter](#writing-blog-posts-with-jupyter)\n",
    "    - [Hide Input/Output Cells](#hide-inputoutput-cells)\n",
    "    - [Collapsable Code Cells](#collapsable-code-cells)\n",
    "    - [Embedded Twitter and YouTube Content](#embedded-twitter-and-youtube-content)\n",
    "    - [Adding Footnotes](#adding-footnotes)\n",
    "    - [Automatically Convert Notebooks To Docs](#automatically-convert-notebooks-to-blog-posts)\n",
    "    - [Running the blog on your local machine](#running-the-blog-on-your-local-machine)\n",
    "    - [Using The GitHub Action & Your Own Custom Blog](#using-the-github-action--your-own-custom-blog)\n",
    "    - [Optional Inputs](#optional-inputs)\n",
    "    - [Contributing To Fastpages](#contributing-to-fastpages)\n",
    "    - [Upgrading Fastpages](#upgrading-fastpages)\n",
    "    - [FAQ](#faq)\n",
    "    - [Customizing Fastpages](#customizing-fastpages)\n",
    "    - [Troubleshooting fastpages](#troubleshooting-fastpages)\n",
    "\n",
    "<!-- /TOC -->"
   ]
  },
  {
   "cell_type": "markdown",
   "metadata": {},
   "source": [
    "## Setup repo for docs site\n",
    "\n",
    "1. Create an ssh key-pair.  Open <a href=\"https://8gwifi.org/sshfunctions.jsp\" target=\"_blank\">this utility</a>. Select: `RSA` and `4096` and leave `Passphrase` blank.  Click the blue button `Generate-SSH-Keys`.\n",
    "\n",
    "2. Navigate to <a href=\"https://github.com/swiftdiaries/math-for-ml/settings/secrets\" target=\"_blank\">this link</a> and click `Add a new secret`.  Copy and paste the **Private Key** into the `Value` field. This includes the \"---BEGIN RSA PRIVATE KEY---\" and \"--END RSA PRIVATE KEY---\" portions. In the `Name` field, name the secret `SSH_DEPLOY_KEY`.  \n",
    "\n",
    "3. Navigate to <a href=\"https://github.com/swiftdiaries/math-for-ml/settings/keys\" target=\"_blank\">this link</a> and click the `Add deploy key` button.  Paste your **Public Key** from step 1 into the `Key` box.  In the `Title`, name the key anything you want, for example `fastpages-key`.  Finally, **make sure you click the checkbox next to `Allow write access`** (pictured below), and click `Add key` to save the key.\n",
    "\n",
    "![](https://raw.githubusercontent.com/fastai/fastpages/master/_fastpages_docs/_checkbox.png)\n"
   ]
  },
  {
   "cell_type": "code",
   "execution_count": 2,
   "metadata": {},
   "outputs": [],
   "source": [
    "# Hello and Welcome to the Cisco Kubeflow Starter Pack"
   ]
  },
  {
   "cell_type": "code",
   "execution_count": null,
   "metadata": {},
   "outputs": [],
   "source": []
  }
 ],
 "metadata": {
  "kernelspec": {
   "display_name": "Python 3.7.5 64-bit ('kubeflow-fairing': conda)",
   "language": "python",
   "name": "python37564bitkubeflowfairingcondadde3edff092d4dc1a1d2fb36f03aedba"
  },
  "language_info": {
   "codemirror_mode": {
    "name": "ipython",
    "version": 3
   },
   "file_extension": ".py",
   "mimetype": "text/x-python",
   "name": "python",
   "nbconvert_exporter": "python",
   "pygments_lexer": "ipython3",
   "version": "3.7.5"
  }
 },
 "nbformat": 4,
 "nbformat_minor": 4
}
